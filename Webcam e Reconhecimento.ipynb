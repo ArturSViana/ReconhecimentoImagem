{
 "cells": [
  {
   "cell_type": "code",
   "execution_count": null,
   "id": "c84bb39f",
   "metadata": {},
   "outputs": [],
   "source": [
    "import cv2\n",
    "import mediapipe as mp\n",
    "\n",
    "#vincular a webcam ao python\n",
    "webcam = cv2.VideoCapture(0) #cria a conexão com a webcam\n",
    "reconhecimento_maos = mp.solutions.hands\n",
    "desenho_mp=mp.solutions.drawing_utils\n",
    "maos=reconhecimento_maos.Hands()\n",
    "\n",
    "# terceiro problema: o que aconteceria se ele não tivesse conseguido conectar com a webcam\n",
    "if webcam.isOpened():\n",
    "    #vou ler a minha webcam (webcam.read())\n",
    "    validacao, frame = webcam.read()\n",
    "    # segundo problema: entender o que é webcam.read()-> temos que fazer ele pegar vários frames\n",
    "    #loop infinito\n",
    "    while validacao:\n",
    "        #pegar o próximo frame da tela\n",
    "        validacao, frame = webcam.read()\n",
    "        \n",
    "        #converte BGR (padrão do opencv) em RGB (padrão do mediapipe)\n",
    "        frameRGB = cv2.cvtColor(frame, cv2.COLOR_BGR2RGB)\n",
    "        lista_maos=maos.process(frameRGB)\n",
    "        if lista_maos.multi_hand_landmarks:\n",
    "            print(lista_maos.multi_hand_landmarks)\n",
    "            for mao in lista_maos.multi_hand_landmarks:\n",
    "                desenho_mp.draw_landmarks(frame, mao, reconhecimento_maos.HAND_CONNECTIONS)\n",
    "        \n",
    "        #mostrar o frame da webcam que o python está vendo\n",
    "        cv2.imshow(\"Video da Webcam\", frame)\n",
    "        \n",
    "        #mandar o python esperar um pouco de um jeito inteligente\n",
    "        tecla = cv2.waitKey(2)\n",
    "\n",
    "        #mandar ele parar o código se eu clicar no ESC\n",
    "        if tecla == 27:\n",
    "            break\n",
    "\n",
    "\n",
    "\n",
    "\n",
    "# primeiro problema: ele continua conectado na webcam mesmo após o programa rodar\n",
    "webcam.release()\n",
    "cv2.destroyAllWindows()"
   ]
  }
 ],
 "metadata": {
  "kernelspec": {
   "display_name": "Python 3 (ipykernel)",
   "language": "python",
   "name": "python3"
  },
  "language_info": {
   "codemirror_mode": {
    "name": "ipython",
    "version": 3
   },
   "file_extension": ".py",
   "mimetype": "text/x-python",
   "name": "python",
   "nbconvert_exporter": "python",
   "pygments_lexer": "ipython3",
   "version": "3.9.7"
  }
 },
 "nbformat": 4,
 "nbformat_minor": 5
}
